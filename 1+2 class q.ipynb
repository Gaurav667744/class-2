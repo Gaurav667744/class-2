{
 "cells": [
  {
   "cell_type": "code",
   "execution_count": 2,
   "id": "b06ee007-4d19-4344-b1cf-4f42418f5296",
   "metadata": {},
   "outputs": [],
   "source": [
    "a= (\"this is my first class\")"
   ]
  },
  {
   "cell_type": "code",
   "execution_count": 4,
   "id": "b32914ee-109e-4d91-856e-fdc294b6c34a",
   "metadata": {},
   "outputs": [],
   "source": [
    "b=(\"pwskills\")"
   ]
  },
  {
   "cell_type": "code",
   "execution_count": 5,
   "id": "bf309aad-7c55-4fc0-a279-315f1bf5dd35",
   "metadata": {},
   "outputs": [],
   "source": [
    "c = 10"
   ]
  },
  {
   "cell_type": "code",
   "execution_count": 6,
   "id": "cb479699-72d8-4a80-bf78-52b0d7082564",
   "metadata": {},
   "outputs": [],
   "source": [
    "d = 20"
   ]
  },
  {
   "cell_type": "code",
   "execution_count": 7,
   "id": "85e76885-94b3-41d0-a9f4-edfa7d515b7e",
   "metadata": {},
   "outputs": [
    {
     "data": {
      "text/plain": [
       "30"
      ]
     },
     "execution_count": 7,
     "metadata": {},
     "output_type": "execute_result"
    }
   ],
   "source": [
    "c+d"
   ]
  },
  {
   "cell_type": "code",
   "execution_count": 8,
   "id": "b01a2aab-216e-418f-a58a-d47c2525b175",
   "metadata": {},
   "outputs": [
    {
     "data": {
      "text/plain": [
       "-10"
      ]
     },
     "execution_count": 8,
     "metadata": {},
     "output_type": "execute_result"
    }
   ],
   "source": [
    "c-d"
   ]
  },
  {
   "cell_type": "code",
   "execution_count": 9,
   "id": "064515ea-de45-4bfb-8f20-d5c1707315f1",
   "metadata": {},
   "outputs": [
    {
     "data": {
      "text/plain": [
       "200"
      ]
     },
     "execution_count": 9,
     "metadata": {},
     "output_type": "execute_result"
    }
   ],
   "source": [
    "c*d"
   ]
  },
  {
   "cell_type": "code",
   "execution_count": 10,
   "id": "5a41c6d1-91c3-44db-87fe-6e29c7707037",
   "metadata": {},
   "outputs": [
    {
     "data": {
      "text/plain": [
       "0.5"
      ]
     },
     "execution_count": 10,
     "metadata": {},
     "output_type": "execute_result"
    }
   ],
   "source": [
    "c/d"
   ]
  },
  {
   "cell_type": "code",
   "execution_count": 13,
   "id": "51e972be-23d4-4f9e-a927-9f7b50197371",
   "metadata": {},
   "outputs": [
    {
     "data": {
      "text/plain": [
       "22"
      ]
     },
     "execution_count": 13,
     "metadata": {},
     "output_type": "execute_result"
    }
   ],
   "source": [
    "len(a)"
   ]
  },
  {
   "cell_type": "code",
   "execution_count": 15,
   "id": "1765cba6-46b4-4ef0-b504-0c17821a07b5",
   "metadata": {},
   "outputs": [
    {
     "data": {
      "text/plain": [
       "5"
      ]
     },
     "execution_count": 15,
     "metadata": {},
     "output_type": "execute_result"
    }
   ],
   "source": [
    "a.count('s')"
   ]
  },
  {
   "cell_type": "code",
   "execution_count": 168,
   "id": "91a8c36f-a04a-4e36-ba6d-ba8fe3232603",
   "metadata": {},
   "outputs": [
    {
     "data": {
      "text/plain": [
       "'this is my first class'"
      ]
     },
     "execution_count": 168,
     "metadata": {},
     "output_type": "execute_result"
    }
   ],
   "source": [
    "a"
   ]
  },
  {
   "cell_type": "code",
   "execution_count": 17,
   "id": "3e90da8a-6f68-4e62-aa47-6e1455783249",
   "metadata": {},
   "outputs": [
    {
     "data": {
      "text/plain": [
       "8"
      ]
     },
     "execution_count": 17,
     "metadata": {},
     "output_type": "execute_result"
    }
   ],
   "source": [
    "a.find(\"m\")"
   ]
  },
  {
   "cell_type": "code",
   "execution_count": 18,
   "id": "b3b93304-b988-49bb-94d3-8a57440cd115",
   "metadata": {},
   "outputs": [
    {
     "data": {
      "text/plain": [
       "str"
      ]
     },
     "execution_count": 18,
     "metadata": {},
     "output_type": "execute_result"
    }
   ],
   "source": [
    "type(a)"
   ]
  },
  {
   "cell_type": "code",
   "execution_count": 19,
   "id": "48beed19-a710-4bcb-ae32-bcb58925ab60",
   "metadata": {},
   "outputs": [
    {
     "data": {
      "text/plain": [
       "int"
      ]
     },
     "execution_count": 19,
     "metadata": {},
     "output_type": "execute_result"
    }
   ],
   "source": [
    "type(c)"
   ]
  },
  {
   "cell_type": "code",
   "execution_count": 20,
   "id": "6a4cff11-1c5e-4ed2-b9ae-66df05454b60",
   "metadata": {},
   "outputs": [],
   "source": [
    "q=36.58"
   ]
  },
  {
   "cell_type": "code",
   "execution_count": 21,
   "id": "8d4717e9-a224-47e5-8715-83e96de01950",
   "metadata": {},
   "outputs": [
    {
     "data": {
      "text/plain": [
       "float"
      ]
     },
     "execution_count": 21,
     "metadata": {},
     "output_type": "execute_result"
    }
   ],
   "source": [
    "type(q)"
   ]
  },
  {
   "cell_type": "code",
   "execution_count": 22,
   "id": "7c9d581c-d33c-4b47-9506-96f7ce77627a",
   "metadata": {},
   "outputs": [],
   "source": [
    "w=4+4j"
   ]
  },
  {
   "cell_type": "code",
   "execution_count": 23,
   "id": "7be24c78-fc00-4ed3-b16a-ae9d6cff0203",
   "metadata": {},
   "outputs": [
    {
     "data": {
      "text/plain": [
       "complex"
      ]
     },
     "execution_count": 23,
     "metadata": {},
     "output_type": "execute_result"
    }
   ],
   "source": [
    "type(w)"
   ]
  },
  {
   "cell_type": "code",
   "execution_count": 35,
   "id": "79bd45cf-6ed9-427d-99af-0850b73a679d",
   "metadata": {},
   "outputs": [],
   "source": [
    "L=[1,2,3,4+5j,'sudh',67.89]"
   ]
  },
  {
   "cell_type": "code",
   "execution_count": 36,
   "id": "40530787-5c05-4ade-8034-eadac77c87ad",
   "metadata": {},
   "outputs": [
    {
     "data": {
      "text/plain": [
       "list"
      ]
     },
     "execution_count": 36,
     "metadata": {},
     "output_type": "execute_result"
    }
   ],
   "source": [
    "type(L)"
   ]
  },
  {
   "cell_type": "code",
   "execution_count": 37,
   "id": "16c693bd-c078-4adf-bcc8-6b06a3ce1b18",
   "metadata": {},
   "outputs": [
    {
     "data": {
      "text/plain": [
       "3"
      ]
     },
     "execution_count": 37,
     "metadata": {},
     "output_type": "execute_result"
    }
   ],
   "source": [
    "L[2]"
   ]
  },
  {
   "cell_type": "code",
   "execution_count": 38,
   "id": "d1dd0961-2b2a-4e13-aed3-650f39c25089",
   "metadata": {},
   "outputs": [
    {
     "data": {
      "text/plain": [
       "(4+5j)"
      ]
     },
     "execution_count": 38,
     "metadata": {},
     "output_type": "execute_result"
    }
   ],
   "source": [
    "L[3]"
   ]
  },
  {
   "cell_type": "code",
   "execution_count": 39,
   "id": "4139fd77-012c-4919-90f3-c8328bb5e8e3",
   "metadata": {},
   "outputs": [
    {
     "data": {
      "text/plain": [
       "67.89"
      ]
     },
     "execution_count": 39,
     "metadata": {},
     "output_type": "execute_result"
    }
   ],
   "source": [
    "L[5]"
   ]
  },
  {
   "cell_type": "code",
   "execution_count": 41,
   "id": "066e45be-f565-48ae-9174-ab03b8aef0af",
   "metadata": {},
   "outputs": [
    {
     "data": {
      "text/plain": [
       "[1, 2, 3, (4+5j), 'sudh']"
      ]
     },
     "execution_count": 41,
     "metadata": {},
     "output_type": "execute_result"
    }
   ],
   "source": [
    "L[0:5]"
   ]
  },
  {
   "cell_type": "code",
   "execution_count": 42,
   "id": "6e9c6cd4-b560-4adc-aa98-e06d4cd0b9f2",
   "metadata": {},
   "outputs": [],
   "source": [
    "S=\"pwskills\""
   ]
  },
  {
   "cell_type": "code",
   "execution_count": 44,
   "id": "9f500892-cedf-473d-9b7b-71e55c282ca3",
   "metadata": {},
   "outputs": [
    {
     "data": {
      "text/plain": [
       "['p', 'w', 's', 'k', 'i', 'l', 'l', 's']"
      ]
     },
     "execution_count": 44,
     "metadata": {},
     "output_type": "execute_result"
    }
   ],
   "source": [
    "list(S)"
   ]
  },
  {
   "cell_type": "code",
   "execution_count": 45,
   "id": "9fe39215-a6c5-475d-b496-d362a30d8857",
   "metadata": {},
   "outputs": [
    {
     "data": {
      "text/plain": [
       "['p', 'w', 's', 'k', 'i', 'l', 'l', 's', 1, 2, 3, (4+5j), 'sudh', 67.89]"
      ]
     },
     "execution_count": 45,
     "metadata": {},
     "output_type": "execute_result"
    }
   ],
   "source": [
    "list(S)+L"
   ]
  },
  {
   "cell_type": "code",
   "execution_count": 46,
   "id": "1cd88325-3037-4ef5-a9ac-6a48a715c2f1",
   "metadata": {},
   "outputs": [
    {
     "data": {
      "text/plain": [
       "'sudh'"
      ]
     },
     "execution_count": 46,
     "metadata": {},
     "output_type": "execute_result"
    }
   ],
   "source": [
    "L[4]"
   ]
  },
  {
   "cell_type": "code",
   "execution_count": 47,
   "id": "caa73f76-cf22-45cf-9f47-c7f597988599",
   "metadata": {},
   "outputs": [
    {
     "data": {
      "text/plain": [
       "str"
      ]
     },
     "execution_count": 47,
     "metadata": {},
     "output_type": "execute_result"
    }
   ],
   "source": [
    "type(L[4])"
   ]
  },
  {
   "cell_type": "code",
   "execution_count": 48,
   "id": "6f703bab-30ec-4b3a-aa17-cef4bf940a2c",
   "metadata": {},
   "outputs": [
    {
     "data": {
      "text/plain": [
       "'su'"
      ]
     },
     "execution_count": 48,
     "metadata": {},
     "output_type": "execute_result"
    }
   ],
   "source": [
    "L[4][0:2]"
   ]
  },
  {
   "cell_type": "code",
   "execution_count": 49,
   "id": "8363e470-5994-432d-b930-2d1551224c98",
   "metadata": {},
   "outputs": [],
   "source": [
    "l=[1,2,True]"
   ]
  },
  {
   "cell_type": "code",
   "execution_count": 50,
   "id": "5b84f90b-7686-412f-ae4c-96e6b7e1cc32",
   "metadata": {},
   "outputs": [
    {
     "data": {
      "text/plain": [
       "list"
      ]
     },
     "execution_count": 50,
     "metadata": {},
     "output_type": "execute_result"
    }
   ],
   "source": [
    "type(l)"
   ]
  },
  {
   "cell_type": "code",
   "execution_count": 52,
   "id": "20b265a7-9bff-46c5-9fc5-b82b86a760b6",
   "metadata": {},
   "outputs": [
    {
     "data": {
      "text/plain": [
       "bool"
      ]
     },
     "execution_count": 52,
     "metadata": {},
     "output_type": "execute_result"
    }
   ],
   "source": [
    "type(l[2])"
   ]
  },
  {
   "cell_type": "code",
   "execution_count": 55,
   "id": "feb35220-7340-4782-86a9-ff9aed00eccb",
   "metadata": {},
   "outputs": [
    {
     "data": {
      "text/plain": [
       "'su'"
      ]
     },
     "execution_count": 55,
     "metadata": {},
     "output_type": "execute_result"
    }
   ],
   "source": [
    "str(L[4][0:2])"
   ]
  },
  {
   "cell_type": "code",
   "execution_count": 57,
   "id": "d5b41f70-b105-4e04-8f2c-0f18df1554a9",
   "metadata": {},
   "outputs": [
    {
     "data": {
      "text/plain": [
       "'Tr'"
      ]
     },
     "execution_count": 57,
     "metadata": {},
     "output_type": "execute_result"
    }
   ],
   "source": [
    "str(l[2])[0:2]"
   ]
  },
  {
   "cell_type": "code",
   "execution_count": 58,
   "id": "57b01468-264f-493d-a772-5b7c065a901f",
   "metadata": {},
   "outputs": [
    {
     "data": {
      "text/plain": [
       "[1, 2, 3, (4+5j), 'sudh', 67.89]"
      ]
     },
     "execution_count": 58,
     "metadata": {},
     "output_type": "execute_result"
    }
   ],
   "source": [
    "L"
   ]
  },
  {
   "cell_type": "code",
   "execution_count": 60,
   "id": "dcc00869-8d5a-4e71-91c8-91ec8fff154a",
   "metadata": {},
   "outputs": [
    {
     "data": {
      "text/plain": [
       "[1, 2, 3, (4+5j), 'sudh', 67.89, 1, 2, True]"
      ]
     },
     "execution_count": 60,
     "metadata": {},
     "output_type": "execute_result"
    }
   ],
   "source": [
    "L+l"
   ]
  },
  {
   "cell_type": "code",
   "execution_count": 62,
   "id": "65890c6f-748d-437e-96f7-e5b984a70dd2",
   "metadata": {},
   "outputs": [
    {
     "data": {
      "text/plain": [
       "3"
      ]
     },
     "execution_count": 62,
     "metadata": {},
     "output_type": "execute_result"
    }
   ],
   "source": [
    "len(l)"
   ]
  },
  {
   "cell_type": "code",
   "execution_count": 63,
   "id": "b4231295-10cc-4f5f-a346-5a3af64ef14a",
   "metadata": {},
   "outputs": [],
   "source": [
    "r=l*3"
   ]
  },
  {
   "cell_type": "code",
   "execution_count": 64,
   "id": "2cc50ed6-bbb5-4684-a8ae-5b47b8147036",
   "metadata": {},
   "outputs": [
    {
     "data": {
      "text/plain": [
       "[1, 2, True, 1, 2, True, 1, 2, True]"
      ]
     },
     "execution_count": 64,
     "metadata": {},
     "output_type": "execute_result"
    }
   ],
   "source": [
    "r"
   ]
  },
  {
   "cell_type": "code",
   "execution_count": 65,
   "id": "900d7aef-938d-4e3e-8e7f-67cf6bce9382",
   "metadata": {},
   "outputs": [
    {
     "data": {
      "text/plain": [
       "9"
      ]
     },
     "execution_count": 65,
     "metadata": {},
     "output_type": "execute_result"
    }
   ],
   "source": [
    "len(r)"
   ]
  },
  {
   "cell_type": "code",
   "execution_count": 66,
   "id": "1932d80a-fac8-4a86-a319-2c5648952cbf",
   "metadata": {},
   "outputs": [],
   "source": [
    "l.append('kumar')"
   ]
  },
  {
   "cell_type": "code",
   "execution_count": 67,
   "id": "b230f4a7-ce3a-4eb6-a5f0-faefd57dd1e0",
   "metadata": {},
   "outputs": [
    {
     "data": {
      "text/plain": [
       "[1, 2, True, 'kumar']"
      ]
     },
     "execution_count": 67,
     "metadata": {},
     "output_type": "execute_result"
    }
   ],
   "source": [
    "l"
   ]
  },
  {
   "cell_type": "code",
   "execution_count": 70,
   "id": "3efd9a28-e084-4458-96ff-b597c60b47b6",
   "metadata": {},
   "outputs": [],
   "source": [
    "l.append(b)"
   ]
  },
  {
   "cell_type": "code",
   "execution_count": 71,
   "id": "8bf0eadd-4dc3-4206-acf3-629d7adb80a2",
   "metadata": {},
   "outputs": [
    {
     "data": {
      "text/plain": [
       "[1, 2, True, 'kumar', 'b', 'pwskills']"
      ]
     },
     "execution_count": 71,
     "metadata": {},
     "output_type": "execute_result"
    }
   ],
   "source": [
    "l"
   ]
  },
  {
   "cell_type": "code",
   "execution_count": 76,
   "id": "9a730d2d-fe6c-4a1f-801b-afbdd3457f8f",
   "metadata": {},
   "outputs": [],
   "source": [
    "l.extend(\"sudh\")"
   ]
  },
  {
   "cell_type": "code",
   "execution_count": 77,
   "id": "02a5e915-b421-449b-b7ca-1a9582e1530d",
   "metadata": {},
   "outputs": [
    {
     "data": {
      "text/plain": [
       "[1, 2, True, 'kumar', 'b', 'pwskills', 's', 'u', 'd', 'h', 's', 'u', 'd', 'h']"
      ]
     },
     "execution_count": 77,
     "metadata": {},
     "output_type": "execute_result"
    }
   ],
   "source": [
    "l"
   ]
  },
  {
   "cell_type": "code",
   "execution_count": 80,
   "id": "ddb79c52-3803-4cc5-ad33-19c89c03953c",
   "metadata": {},
   "outputs": [],
   "source": [
    "l.extend(L)"
   ]
  },
  {
   "cell_type": "code",
   "execution_count": 79,
   "id": "dcb57487-ba8b-41fb-bcc0-48ec0fd1f77a",
   "metadata": {},
   "outputs": [
    {
     "data": {
      "text/plain": [
       "[1,\n",
       " 2,\n",
       " True,\n",
       " 'kumar',\n",
       " 'b',\n",
       " 'pwskills',\n",
       " 's',\n",
       " 'u',\n",
       " 'd',\n",
       " 'h',\n",
       " 's',\n",
       " 'u',\n",
       " 'd',\n",
       " 'h',\n",
       " 'p',\n",
       " 'w',\n",
       " 's',\n",
       " 'k',\n",
       " 'i',\n",
       " 'l',\n",
       " 'l',\n",
       " 's']"
      ]
     },
     "execution_count": 79,
     "metadata": {},
     "output_type": "execute_result"
    }
   ],
   "source": [
    "l"
   ]
  },
  {
   "cell_type": "code",
   "execution_count": 81,
   "id": "f54f0003-efac-4499-bfcc-a32674b6fcb2",
   "metadata": {},
   "outputs": [
    {
     "data": {
      "text/plain": [
       "[1,\n",
       " 2,\n",
       " True,\n",
       " 'kumar',\n",
       " 'b',\n",
       " 'pwskills',\n",
       " 's',\n",
       " 'u',\n",
       " 'd',\n",
       " 'h',\n",
       " 's',\n",
       " 'u',\n",
       " 'd',\n",
       " 'h',\n",
       " 'p',\n",
       " 'w',\n",
       " 's',\n",
       " 'k',\n",
       " 'i',\n",
       " 'l',\n",
       " 'l',\n",
       " 's',\n",
       " 1,\n",
       " 2,\n",
       " 3,\n",
       " (4+5j),\n",
       " 'sudh',\n",
       " 67.89]"
      ]
     },
     "execution_count": 81,
     "metadata": {},
     "output_type": "execute_result"
    }
   ],
   "source": [
    "l"
   ]
  },
  {
   "cell_type": "code",
   "execution_count": 82,
   "id": "8d3a5651-7c40-4275-990a-483687d35a66",
   "metadata": {},
   "outputs": [],
   "source": [
    "l1=[1,2,3,'sudh']"
   ]
  },
  {
   "cell_type": "code",
   "execution_count": 83,
   "id": "1d20c18d-0b43-4977-bdf8-d5cc6fa8244a",
   "metadata": {},
   "outputs": [],
   "source": [
    "l1.insert(2,'name')"
   ]
  },
  {
   "cell_type": "code",
   "execution_count": 84,
   "id": "1b7b1a00-17b3-4f80-844f-1edf36c20169",
   "metadata": {},
   "outputs": [
    {
     "data": {
      "text/plain": [
       "[1, 2, 'name', 3, 'sudh']"
      ]
     },
     "execution_count": 84,
     "metadata": {},
     "output_type": "execute_result"
    }
   ],
   "source": [
    "l1"
   ]
  },
  {
   "cell_type": "code",
   "execution_count": 85,
   "id": "4d764345-34e0-4dce-871b-c94da5ecb161",
   "metadata": {},
   "outputs": [
    {
     "data": {
      "text/plain": [
       "67.89"
      ]
     },
     "execution_count": 85,
     "metadata": {},
     "output_type": "execute_result"
    }
   ],
   "source": [
    "l.pop()"
   ]
  },
  {
   "cell_type": "code",
   "execution_count": 86,
   "id": "92e06cf9-8a31-4e89-bc89-0b37027ff082",
   "metadata": {},
   "outputs": [
    {
     "data": {
      "text/plain": [
       "[1,\n",
       " 2,\n",
       " True,\n",
       " 'kumar',\n",
       " 'b',\n",
       " 'pwskills',\n",
       " 's',\n",
       " 'u',\n",
       " 'd',\n",
       " 'h',\n",
       " 's',\n",
       " 'u',\n",
       " 'd',\n",
       " 'h',\n",
       " 'p',\n",
       " 'w',\n",
       " 's',\n",
       " 'k',\n",
       " 'i',\n",
       " 'l',\n",
       " 'l',\n",
       " 's',\n",
       " 1,\n",
       " 2,\n",
       " 3,\n",
       " (4+5j),\n",
       " 'sudh']"
      ]
     },
     "execution_count": 86,
     "metadata": {},
     "output_type": "execute_result"
    }
   ],
   "source": [
    "l"
   ]
  },
  {
   "cell_type": "code",
   "execution_count": 91,
   "id": "c9d9eae9-f85c-40f3-9d5f-57ebdfcdd410",
   "metadata": {},
   "outputs": [
    {
     "data": {
      "text/plain": [
       "'l'"
      ]
     },
     "execution_count": 91,
     "metadata": {},
     "output_type": "execute_result"
    }
   ],
   "source": [
    "l.pop(17)"
   ]
  },
  {
   "cell_type": "code",
   "execution_count": 92,
   "id": "df3b7317-f06e-426c-bf73-5fb606a05c65",
   "metadata": {},
   "outputs": [
    {
     "data": {
      "text/plain": [
       "'s'"
      ]
     },
     "execution_count": 92,
     "metadata": {},
     "output_type": "execute_result"
    }
   ],
   "source": [
    "l.pop(4)"
   ]
  },
  {
   "cell_type": "code",
   "execution_count": 93,
   "id": "c3e07b85-e99b-4feb-a684-d3eef9dae52d",
   "metadata": {},
   "outputs": [
    {
     "data": {
      "text/plain": [
       "[1,\n",
       " 2,\n",
       " 'b',\n",
       " 'pwskills',\n",
       " 'u',\n",
       " 'd',\n",
       " 'h',\n",
       " 's',\n",
       " 'u',\n",
       " 'd',\n",
       " 'h',\n",
       " 'p',\n",
       " 'w',\n",
       " 's',\n",
       " 'k',\n",
       " 'i',\n",
       " 'l',\n",
       " 's',\n",
       " 1,\n",
       " 2,\n",
       " 3,\n",
       " (4+5j),\n",
       " 'sudh']"
      ]
     },
     "execution_count": 93,
     "metadata": {},
     "output_type": "execute_result"
    }
   ],
   "source": [
    "l"
   ]
  },
  {
   "cell_type": "code",
   "execution_count": 94,
   "id": "341de7fa-3363-43d8-9ed7-fc5298a183df",
   "metadata": {},
   "outputs": [
    {
     "data": {
      "text/plain": [
       "'sudh'"
      ]
     },
     "execution_count": 94,
     "metadata": {},
     "output_type": "execute_result"
    }
   ],
   "source": [
    "l.pop(-1)"
   ]
  },
  {
   "cell_type": "code",
   "execution_count": 99,
   "id": "f111579f-8c4f-4686-bfd6-30fa1f729bf1",
   "metadata": {},
   "outputs": [
    {
     "data": {
      "text/plain": [
       "[1,\n",
       " 2,\n",
       " 'b',\n",
       " 'pwskills',\n",
       " 'u',\n",
       " 'd',\n",
       " 'h',\n",
       " 's',\n",
       " 'u',\n",
       " 'd',\n",
       " 'h',\n",
       " 'p',\n",
       " 'w',\n",
       " 's',\n",
       " 'k',\n",
       " 'i',\n",
       " 'l',\n",
       " 's',\n",
       " 1,\n",
       " 2,\n",
       " 3,\n",
       " (4+5j)]"
      ]
     },
     "execution_count": 99,
     "metadata": {},
     "output_type": "execute_result"
    }
   ],
   "source": [
    "l"
   ]
  },
  {
   "cell_type": "code",
   "execution_count": 100,
   "id": "7a226403-50ae-4118-a3a0-5bdb37b3e50b",
   "metadata": {},
   "outputs": [],
   "source": [
    "l.remove(2)"
   ]
  },
  {
   "cell_type": "code",
   "execution_count": 101,
   "id": "36453cdc-b669-42e3-8662-0b042a05d802",
   "metadata": {},
   "outputs": [
    {
     "data": {
      "text/plain": [
       "[1,\n",
       " 'b',\n",
       " 'pwskills',\n",
       " 'u',\n",
       " 'd',\n",
       " 'h',\n",
       " 's',\n",
       " 'u',\n",
       " 'd',\n",
       " 'h',\n",
       " 'p',\n",
       " 'w',\n",
       " 's',\n",
       " 'k',\n",
       " 'i',\n",
       " 'l',\n",
       " 's',\n",
       " 1,\n",
       " 2,\n",
       " 3,\n",
       " (4+5j)]"
      ]
     },
     "execution_count": 101,
     "metadata": {},
     "output_type": "execute_result"
    }
   ],
   "source": [
    "l"
   ]
  },
  {
   "cell_type": "code",
   "execution_count": 102,
   "id": "50f6d35d-03cb-4303-89f1-917946e61b49",
   "metadata": {},
   "outputs": [],
   "source": [
    "l.remove('pwskills')"
   ]
  },
  {
   "cell_type": "code",
   "execution_count": 103,
   "id": "bc09cabb-43c2-4b0b-8177-a49556b31026",
   "metadata": {},
   "outputs": [
    {
     "data": {
      "text/plain": [
       "[1,\n",
       " 'b',\n",
       " 'u',\n",
       " 'd',\n",
       " 'h',\n",
       " 's',\n",
       " 'u',\n",
       " 'd',\n",
       " 'h',\n",
       " 'p',\n",
       " 'w',\n",
       " 's',\n",
       " 'k',\n",
       " 'i',\n",
       " 'l',\n",
       " 's',\n",
       " 1,\n",
       " 2,\n",
       " 3,\n",
       " (4+5j)]"
      ]
     },
     "execution_count": 103,
     "metadata": {},
     "output_type": "execute_result"
    }
   ],
   "source": [
    "l"
   ]
  },
  {
   "cell_type": "code",
   "execution_count": 104,
   "id": "93b1ea2c-15ec-44a6-91f5-00d812eb02ab",
   "metadata": {},
   "outputs": [],
   "source": [
    "l.remove('s')"
   ]
  },
  {
   "cell_type": "code",
   "execution_count": 105,
   "id": "c2008a80-9af5-4bc3-8983-4e951c1069e2",
   "metadata": {},
   "outputs": [
    {
     "data": {
      "text/plain": [
       "[1,\n",
       " 'b',\n",
       " 'u',\n",
       " 'd',\n",
       " 'h',\n",
       " 'u',\n",
       " 'd',\n",
       " 'h',\n",
       " 'p',\n",
       " 'w',\n",
       " 's',\n",
       " 'k',\n",
       " 'i',\n",
       " 'l',\n",
       " 's',\n",
       " 1,\n",
       " 2,\n",
       " 3,\n",
       " (4+5j)]"
      ]
     },
     "execution_count": 105,
     "metadata": {},
     "output_type": "execute_result"
    }
   ],
   "source": [
    "l"
   ]
  },
  {
   "cell_type": "code",
   "execution_count": 108,
   "id": "3873ab63-1934-43b8-9efc-7ebe1e5501a2",
   "metadata": {},
   "outputs": [],
   "source": [
    "l2=[1,2,3,4,[5,6,7,8]]"
   ]
  },
  {
   "cell_type": "code",
   "execution_count": 109,
   "id": "ff30d422-0c7b-4781-b0e6-3e99641d0a2b",
   "metadata": {},
   "outputs": [],
   "source": [
    "l2[4].remove(6)"
   ]
  },
  {
   "cell_type": "code",
   "execution_count": 110,
   "id": "a2e6c869-7452-49e4-a587-be11cd64d46d",
   "metadata": {},
   "outputs": [
    {
     "data": {
      "text/plain": [
       "[1, 2, 3, 4, [5, 7, 8]]"
      ]
     },
     "execution_count": 110,
     "metadata": {},
     "output_type": "execute_result"
    }
   ],
   "source": [
    "l2"
   ]
  },
  {
   "cell_type": "code",
   "execution_count": 111,
   "id": "a81eb310-6fd6-483a-92be-0c141a1ed815",
   "metadata": {},
   "outputs": [],
   "source": [
    "l2.remove(2)"
   ]
  },
  {
   "cell_type": "code",
   "execution_count": 112,
   "id": "597f82ee-8bbd-4361-a9dd-fbce894c621c",
   "metadata": {},
   "outputs": [
    {
     "data": {
      "text/plain": [
       "[1, 3, 4, [5, 7, 8]]"
      ]
     },
     "execution_count": 112,
     "metadata": {},
     "output_type": "execute_result"
    }
   ],
   "source": [
    "l2"
   ]
  },
  {
   "cell_type": "code",
   "execution_count": 113,
   "id": "16cac349-37f9-4268-b9b8-0c67605e4ab3",
   "metadata": {},
   "outputs": [
    {
     "data": {
      "text/plain": [
       "[[5, 7, 8], 4, 3, 1]"
      ]
     },
     "execution_count": 113,
     "metadata": {},
     "output_type": "execute_result"
    }
   ],
   "source": [
    "l2[::-1]"
   ]
  },
  {
   "cell_type": "code",
   "execution_count": 114,
   "id": "cb3e6381-aa27-4a83-a01b-378aba1a4d4b",
   "metadata": {},
   "outputs": [],
   "source": [
    "l2.reverse()"
   ]
  },
  {
   "cell_type": "code",
   "execution_count": 115,
   "id": "d0d3b3e7-8385-4bbb-b959-5e67f3788c70",
   "metadata": {},
   "outputs": [
    {
     "data": {
      "text/plain": [
       "[[5, 7, 8], 4, 3, 1]"
      ]
     },
     "execution_count": 115,
     "metadata": {},
     "output_type": "execute_result"
    }
   ],
   "source": [
    "l2"
   ]
  },
  {
   "cell_type": "code",
   "execution_count": 116,
   "id": "e72304a7-5b9d-4b33-90ce-845340fd51c3",
   "metadata": {},
   "outputs": [
    {
     "data": {
      "text/plain": [
       "[[5, 7, 8], 4, 3, 1]"
      ]
     },
     "execution_count": 116,
     "metadata": {},
     "output_type": "execute_result"
    }
   ],
   "source": [
    "l2"
   ]
  },
  {
   "cell_type": "code",
   "execution_count": 117,
   "id": "393a8178-107e-4d93-89c1-23766dfa5c1f",
   "metadata": {},
   "outputs": [
    {
     "ename": "TypeError",
     "evalue": "'<' not supported between instances of 'int' and 'list'",
     "output_type": "error",
     "traceback": [
      "\u001b[0;31m---------------------------------------------------------------------------\u001b[0m",
      "\u001b[0;31mTypeError\u001b[0m                                 Traceback (most recent call last)",
      "Cell \u001b[0;32mIn[117], line 1\u001b[0m\n\u001b[0;32m----> 1\u001b[0m \u001b[43ml2\u001b[49m\u001b[38;5;241;43m.\u001b[39;49m\u001b[43msort\u001b[49m\u001b[43m(\u001b[49m\u001b[43m)\u001b[49m\n",
      "\u001b[0;31mTypeError\u001b[0m: '<' not supported between instances of 'int' and 'list'"
     ]
    }
   ],
   "source": [
    "l2.sort()"
   ]
  },
  {
   "cell_type": "code",
   "execution_count": 119,
   "id": "06ec4b93-9cde-436f-ad9c-8100561bcd81",
   "metadata": {},
   "outputs": [],
   "source": [
    "l3=[45,34,76,78,98,77,66]"
   ]
  },
  {
   "cell_type": "code",
   "execution_count": 120,
   "id": "3b363f46-6489-4001-ab36-07729d5c4d6a",
   "metadata": {},
   "outputs": [],
   "source": [
    "l3.sort()"
   ]
  },
  {
   "cell_type": "code",
   "execution_count": 121,
   "id": "12ff53ad-03ae-452b-be5f-bd1be73089e4",
   "metadata": {},
   "outputs": [
    {
     "data": {
      "text/plain": [
       "[34, 45, 66, 76, 77, 78, 98]"
      ]
     },
     "execution_count": 121,
     "metadata": {},
     "output_type": "execute_result"
    }
   ],
   "source": [
    "l3"
   ]
  },
  {
   "cell_type": "code",
   "execution_count": 122,
   "id": "9409a56d-f70c-4fc2-ae50-0c27810e0893",
   "metadata": {},
   "outputs": [],
   "source": [
    "l4=['golu','sour','mayank','rahul','vishal']"
   ]
  },
  {
   "cell_type": "code",
   "execution_count": 123,
   "id": "5f91e06a-e2aa-43d3-86a4-8ca04f00ac27",
   "metadata": {},
   "outputs": [],
   "source": [
    "l4.sort()"
   ]
  },
  {
   "cell_type": "code",
   "execution_count": 124,
   "id": "cda35ac0-a4a9-49f5-82b4-a8493deb6320",
   "metadata": {},
   "outputs": [
    {
     "data": {
      "text/plain": [
       "['golu', 'mayank', 'rahul', 'sour', 'vishal']"
      ]
     },
     "execution_count": 124,
     "metadata": {},
     "output_type": "execute_result"
    }
   ],
   "source": [
    "l4"
   ]
  },
  {
   "cell_type": "code",
   "execution_count": 126,
   "id": "b5fd7266-42d8-4f4f-a203-895688aa4961",
   "metadata": {},
   "outputs": [
    {
     "data": {
      "text/plain": [
       "0"
      ]
     },
     "execution_count": 126,
     "metadata": {},
     "output_type": "execute_result"
    }
   ],
   "source": [
    "l4.index('golu')"
   ]
  },
  {
   "cell_type": "code",
   "execution_count": 127,
   "id": "637bed25-ba5e-44c0-af9d-9339454eb5fe",
   "metadata": {},
   "outputs": [
    {
     "data": {
      "text/plain": [
       "2"
      ]
     },
     "execution_count": 127,
     "metadata": {},
     "output_type": "execute_result"
    }
   ],
   "source": [
    "l4.index('rahul')"
   ]
  },
  {
   "cell_type": "code",
   "execution_count": 128,
   "id": "04a540fc-44e8-4e84-bc7f-c412b4ca87b9",
   "metadata": {},
   "outputs": [],
   "source": [
    "s=\"sudh\""
   ]
  },
  {
   "cell_type": "code",
   "execution_count": 129,
   "id": "05c4a9c8-c2dd-4ae3-acc0-4ad422bddfe9",
   "metadata": {},
   "outputs": [],
   "source": [
    "l5=[1,2,3,4,5]"
   ]
  },
  {
   "cell_type": "code",
   "execution_count": 131,
   "id": "fc588c33-6bbf-426c-bc3f-ffaffa060f12",
   "metadata": {},
   "outputs": [
    {
     "data": {
      "text/plain": [
       "'s'"
      ]
     },
     "execution_count": 131,
     "metadata": {},
     "output_type": "execute_result"
    }
   ],
   "source": [
    "s[0]"
   ]
  },
  {
   "cell_type": "code",
   "execution_count": 132,
   "id": "3d8e8ae5-9bfc-4b04-a601-3e6bf15d9b98",
   "metadata": {},
   "outputs": [
    {
     "data": {
      "text/plain": [
       "'sudh'"
      ]
     },
     "execution_count": 132,
     "metadata": {},
     "output_type": "execute_result"
    }
   ],
   "source": [
    "s"
   ]
  },
  {
   "cell_type": "code",
   "execution_count": 136,
   "id": "325883bd-96cf-4d1b-b205-f6691219faca",
   "metadata": {},
   "outputs": [
    {
     "ename": "TypeError",
     "evalue": "'str' object does not support item assignment",
     "output_type": "error",
     "traceback": [
      "\u001b[0;31m---------------------------------------------------------------------------\u001b[0m",
      "\u001b[0;31mTypeError\u001b[0m                                 Traceback (most recent call last)",
      "Cell \u001b[0;32mIn[136], line 1\u001b[0m\n\u001b[0;32m----> 1\u001b[0m \u001b[43ms\u001b[49m\u001b[43m[\u001b[49m\u001b[38;5;241;43m0\u001b[39;49m\u001b[43m]\u001b[49m \u001b[38;5;241m=\u001b[39m \u001b[38;5;124m'\u001b[39m\u001b[38;5;124ma\u001b[39m\u001b[38;5;124m'\u001b[39m\n",
      "\u001b[0;31mTypeError\u001b[0m: 'str' object does not support item assignment"
     ]
    }
   ],
   "source": [
    "s[0] = 'a'"
   ]
  },
  {
   "cell_type": "code",
   "execution_count": 140,
   "id": "eb665799-ba2a-4350-9cac-101599a8b7bf",
   "metadata": {},
   "outputs": [],
   "source": [
    "l5[0] = 10"
   ]
  },
  {
   "cell_type": "code",
   "execution_count": 141,
   "id": "152c7309-0ca9-4c0b-8c2c-de16d78a1dd0",
   "metadata": {},
   "outputs": [
    {
     "data": {
      "text/plain": [
       "[10, 2, 3, 4, 5]"
      ]
     },
     "execution_count": 141,
     "metadata": {},
     "output_type": "execute_result"
    }
   ],
   "source": [
    "l5"
   ]
  },
  {
   "cell_type": "code",
   "execution_count": 142,
   "id": "e3318c3d-b663-4f19-80ae-73d3104ec792",
   "metadata": {},
   "outputs": [
    {
     "data": {
      "text/plain": [
       "'rudh'"
      ]
     },
     "execution_count": 142,
     "metadata": {},
     "output_type": "execute_result"
    }
   ],
   "source": [
    "s.replace('s' , 'r')"
   ]
  },
  {
   "cell_type": "code",
   "execution_count": 143,
   "id": "841fd72d-52a6-4339-af6a-458cffc79780",
   "metadata": {},
   "outputs": [
    {
     "data": {
      "text/plain": [
       "'sudh'"
      ]
     },
     "execution_count": 143,
     "metadata": {},
     "output_type": "execute_result"
    }
   ],
   "source": [
    "s"
   ]
  },
  {
   "cell_type": "code",
   "execution_count": 144,
   "id": "eeb4e077-ccfe-4cc6-9c53-30860d3d5eb4",
   "metadata": {},
   "outputs": [],
   "source": [
    "t = (1,2,3,4,5,True,4+5j,'sudh',[7,8,9])"
   ]
  },
  {
   "cell_type": "code",
   "execution_count": 145,
   "id": "c039853b-af61-4f7e-857c-a301bdb4cb07",
   "metadata": {},
   "outputs": [
    {
     "data": {
      "text/plain": [
       "(1, 2, 3, 4, 5, True, (4+5j), 'sudh', [7, 8, 9])"
      ]
     },
     "execution_count": 145,
     "metadata": {},
     "output_type": "execute_result"
    }
   ],
   "source": [
    "t"
   ]
  },
  {
   "cell_type": "code",
   "execution_count": 146,
   "id": "d6dedbd6-a3e3-4b23-8bd4-f23de0dd26db",
   "metadata": {},
   "outputs": [
    {
     "data": {
      "text/plain": [
       "tuple"
      ]
     },
     "execution_count": 146,
     "metadata": {},
     "output_type": "execute_result"
    }
   ],
   "source": [
    "type(t)"
   ]
  },
  {
   "cell_type": "code",
   "execution_count": 147,
   "id": "f938ea2d-6424-45a1-8c7a-48ae5dda5da1",
   "metadata": {},
   "outputs": [
    {
     "data": {
      "text/plain": [
       "9"
      ]
     },
     "execution_count": 147,
     "metadata": {},
     "output_type": "execute_result"
    }
   ],
   "source": [
    "len(t)"
   ]
  },
  {
   "cell_type": "code",
   "execution_count": 148,
   "id": "88cf9b1a-e95a-4b19-8920-0225a6e7c609",
   "metadata": {},
   "outputs": [
    {
     "data": {
      "text/plain": [
       "True"
      ]
     },
     "execution_count": 148,
     "metadata": {},
     "output_type": "execute_result"
    }
   ],
   "source": [
    "t[5]"
   ]
  },
  {
   "cell_type": "code",
   "execution_count": 149,
   "id": "b9d673d7-2598-4da9-bb54-dfb300dd20e9",
   "metadata": {},
   "outputs": [
    {
     "data": {
      "text/plain": [
       "[7, 8, 9]"
      ]
     },
     "execution_count": 149,
     "metadata": {},
     "output_type": "execute_result"
    }
   ],
   "source": [
    "t[-1]"
   ]
  },
  {
   "cell_type": "code",
   "execution_count": 150,
   "id": "48891c3b-f4c0-4348-a572-ae5f60732bb0",
   "metadata": {},
   "outputs": [
    {
     "data": {
      "text/plain": [
       "([7, 8, 9], 'sudh', (4+5j), True, 5, 4, 3, 2, 1)"
      ]
     },
     "execution_count": 150,
     "metadata": {},
     "output_type": "execute_result"
    }
   ],
   "source": [
    "t[::-1]"
   ]
  },
  {
   "cell_type": "code",
   "execution_count": 151,
   "id": "04fa4109-9224-4b98-956b-93c7df26c879",
   "metadata": {},
   "outputs": [
    {
     "data": {
      "text/plain": [
       "[10, 2, 3, 4, 5]"
      ]
     },
     "execution_count": 151,
     "metadata": {},
     "output_type": "execute_result"
    }
   ],
   "source": [
    "l5"
   ]
  },
  {
   "cell_type": "code",
   "execution_count": 152,
   "id": "8541a854-1a71-47fc-b019-54282cd12dcf",
   "metadata": {},
   "outputs": [
    {
     "data": {
      "text/plain": [
       "['golu', 'mayank', 'rahul', 'sour', 'vishal']"
      ]
     },
     "execution_count": 152,
     "metadata": {},
     "output_type": "execute_result"
    }
   ],
   "source": [
    "l4"
   ]
  },
  {
   "cell_type": "code",
   "execution_count": 153,
   "id": "e0a33689-8808-400a-8ee1-d85fa0f8a24a",
   "metadata": {},
   "outputs": [
    {
     "data": {
      "text/plain": [
       "[34, 45, 66, 76, 77, 78, 98]"
      ]
     },
     "execution_count": 153,
     "metadata": {},
     "output_type": "execute_result"
    }
   ],
   "source": [
    "l3"
   ]
  },
  {
   "cell_type": "code",
   "execution_count": 154,
   "id": "7d004dfd-1846-4df5-811d-bcc1bf946f20",
   "metadata": {},
   "outputs": [
    {
     "data": {
      "text/plain": [
       "[[5, 7, 8], 4, 3, 1]"
      ]
     },
     "execution_count": 154,
     "metadata": {},
     "output_type": "execute_result"
    }
   ],
   "source": [
    "l2"
   ]
  },
  {
   "cell_type": "code",
   "execution_count": 155,
   "id": "6e36523e-e0e7-4fa4-900b-04420f009633",
   "metadata": {},
   "outputs": [
    {
     "data": {
      "text/plain": [
       "[1, 2, 'name', 3, 'sudh']"
      ]
     },
     "execution_count": 155,
     "metadata": {},
     "output_type": "execute_result"
    }
   ],
   "source": [
    "l1"
   ]
  },
  {
   "cell_type": "code",
   "execution_count": 156,
   "id": "eeb8542a-a2ce-47e0-be4c-9947883c3b04",
   "metadata": {},
   "outputs": [],
   "source": [
    "l1[2] = 234"
   ]
  },
  {
   "cell_type": "code",
   "execution_count": 157,
   "id": "3d81051a-8112-42b2-91c3-a934fdd63686",
   "metadata": {},
   "outputs": [
    {
     "data": {
      "text/plain": [
       "[1, 2, 234, 3, 'sudh']"
      ]
     },
     "execution_count": 157,
     "metadata": {},
     "output_type": "execute_result"
    }
   ],
   "source": [
    "l1"
   ]
  },
  {
   "cell_type": "code",
   "execution_count": 158,
   "id": "437fef31-05f4-4945-8905-8dff3aff70da",
   "metadata": {},
   "outputs": [
    {
     "data": {
      "text/plain": [
       "(1, 2, 3, 4, 5, True, (4+5j), 'sudh', [7, 8, 9])"
      ]
     },
     "execution_count": 158,
     "metadata": {},
     "output_type": "execute_result"
    }
   ],
   "source": [
    "t"
   ]
  },
  {
   "cell_type": "code",
   "execution_count": 159,
   "id": "01da021a-cb01-445e-a724-a66444b53c3d",
   "metadata": {},
   "outputs": [
    {
     "data": {
      "text/plain": [
       "[1, 2, 234, 3, 'sudh']"
      ]
     },
     "execution_count": 159,
     "metadata": {},
     "output_type": "execute_result"
    }
   ],
   "source": [
    "l1"
   ]
  },
  {
   "cell_type": "code",
   "execution_count": 161,
   "id": "982571a1-7ffc-438a-869a-f91ca8b87741",
   "metadata": {},
   "outputs": [
    {
     "ename": "TypeError",
     "evalue": "'tuple' object does not support item assignment",
     "output_type": "error",
     "traceback": [
      "\u001b[0;31m---------------------------------------------------------------------------\u001b[0m",
      "\u001b[0;31mTypeError\u001b[0m                                 Traceback (most recent call last)",
      "Cell \u001b[0;32mIn[161], line 1\u001b[0m\n\u001b[0;32m----> 1\u001b[0m \u001b[43mt\u001b[49m\u001b[43m[\u001b[49m\u001b[38;5;241;43m0\u001b[39;49m\u001b[43m]\u001b[49m \u001b[38;5;241m=\u001b[39m \u001b[38;5;124m'\u001b[39m\u001b[38;5;124msudh\u001b[39m\u001b[38;5;124m'\u001b[39m\n",
      "\u001b[0;31mTypeError\u001b[0m: 'tuple' object does not support item assignment"
     ]
    }
   ],
   "source": [
    "t[0] = 'sudh'"
   ]
  },
  {
   "cell_type": "code",
   "execution_count": 162,
   "id": "df8c0c8e-8f3b-4a60-8fbf-fd2e7d624401",
   "metadata": {},
   "outputs": [
    {
     "data": {
      "text/plain": [
       "1"
      ]
     },
     "execution_count": 162,
     "metadata": {},
     "output_type": "execute_result"
    }
   ],
   "source": [
    "t.count(5)"
   ]
  },
  {
   "cell_type": "code",
   "execution_count": 163,
   "id": "b2534b8d-f7f3-4c1e-adb6-04488d682985",
   "metadata": {},
   "outputs": [
    {
     "data": {
      "text/plain": [
       "0"
      ]
     },
     "execution_count": 163,
     "metadata": {},
     "output_type": "execute_result"
    }
   ],
   "source": [
    "t.index(True)"
   ]
  },
  {
   "cell_type": "code",
   "execution_count": 164,
   "id": "109a1764-5d7c-425f-9524-60adc3ad0158",
   "metadata": {},
   "outputs": [
    {
     "data": {
      "text/plain": [
       "(1, 2, 3, 4, 5, True, (4+5j), 'sudh', [7, 8, 9])"
      ]
     },
     "execution_count": 164,
     "metadata": {},
     "output_type": "execute_result"
    }
   ],
   "source": [
    "t"
   ]
  },
  {
   "cell_type": "code",
   "execution_count": 165,
   "id": "0a13ac9c-7646-4bb9-af9d-6a6dd34d1b86",
   "metadata": {},
   "outputs": [
    {
     "data": {
      "text/plain": [
       "1"
      ]
     },
     "execution_count": 165,
     "metadata": {},
     "output_type": "execute_result"
    }
   ],
   "source": [
    "t.count(4)"
   ]
  },
  {
   "cell_type": "code",
   "execution_count": 166,
   "id": "a00c7d1c-8299-4508-b8a2-14f2144f1b1d",
   "metadata": {},
   "outputs": [
    {
     "data": {
      "text/plain": [
       "2"
      ]
     },
     "execution_count": 166,
     "metadata": {},
     "output_type": "execute_result"
    }
   ],
   "source": [
    "t.count(True)"
   ]
  },
  {
   "cell_type": "code",
   "execution_count": 167,
   "id": "591fedf4-24ed-4d49-9b3a-37a108df2aed",
   "metadata": {},
   "outputs": [
    {
     "data": {
      "text/plain": [
       "2"
      ]
     },
     "execution_count": 167,
     "metadata": {},
     "output_type": "execute_result"
    }
   ],
   "source": [
    "t.count(1)"
   ]
  },
  {
   "cell_type": "code",
   "execution_count": 171,
   "id": "91f99808-93ed-4903-8f60-cead336f7b6e",
   "metadata": {},
   "outputs": [],
   "source": [
    "t1=(2,3,4,5,5+6j,'sudh','pwskill',True)"
   ]
  },
  {
   "cell_type": "code",
   "execution_count": 172,
   "id": "55c355be-f825-4a50-9263-b0d4725551e1",
   "metadata": {},
   "outputs": [
    {
     "data": {
      "text/plain": [
       "0"
      ]
     },
     "execution_count": 172,
     "metadata": {},
     "output_type": "execute_result"
    }
   ],
   "source": [
    "t1.count('s')"
   ]
  },
  {
   "cell_type": "code",
   "execution_count": 173,
   "id": "886ec694-6ec7-4e9c-995f-4729a000d564",
   "metadata": {},
   "outputs": [
    {
     "data": {
      "text/plain": [
       "1"
      ]
     },
     "execution_count": 173,
     "metadata": {},
     "output_type": "execute_result"
    }
   ],
   "source": [
    "t1.count(True)"
   ]
  },
  {
   "cell_type": "code",
   "execution_count": 174,
   "id": "f277e541-1d59-4902-8b88-af34861d1a28",
   "metadata": {},
   "outputs": [
    {
     "data": {
      "text/plain": [
       "1"
      ]
     },
     "execution_count": 174,
     "metadata": {},
     "output_type": "execute_result"
    }
   ],
   "source": [
    "t1.count('pwskill')"
   ]
  },
  {
   "cell_type": "code",
   "execution_count": 175,
   "id": "6b321f4b-1c2d-4ffc-ba3a-f1211259818c",
   "metadata": {},
   "outputs": [],
   "source": [
    "s1={}"
   ]
  },
  {
   "cell_type": "code",
   "execution_count": 176,
   "id": "0fb2ab71-bff7-4e47-9786-fb5624adb356",
   "metadata": {},
   "outputs": [
    {
     "data": {
      "text/plain": [
       "dict"
      ]
     },
     "execution_count": 176,
     "metadata": {},
     "output_type": "execute_result"
    }
   ],
   "source": [
    "type(s1)"
   ]
  },
  {
   "cell_type": "code",
   "execution_count": 177,
   "id": "3fb8eebf-5e44-4fbc-9215-39bdb160535f",
   "metadata": {},
   "outputs": [],
   "source": [
    "s2={2,3,4,5,6,7}"
   ]
  },
  {
   "cell_type": "code",
   "execution_count": 178,
   "id": "3b57c561-817c-483a-8f82-d2505477a7bf",
   "metadata": {},
   "outputs": [
    {
     "data": {
      "text/plain": [
       "set"
      ]
     },
     "execution_count": 178,
     "metadata": {},
     "output_type": "execute_result"
    }
   ],
   "source": [
    "type(s2)"
   ]
  },
  {
   "cell_type": "code",
   "execution_count": 180,
   "id": "5066232e-86c0-4e00-9ba2-b212dcf943ff",
   "metadata": {},
   "outputs": [],
   "source": [
    "s3={1,2,3,8.2,True,5+4j,'pwskills'}"
   ]
  },
  {
   "cell_type": "code",
   "execution_count": 181,
   "id": "d4fe2fcf-016e-4a3e-8134-26306c698469",
   "metadata": {},
   "outputs": [
    {
     "data": {
      "text/plain": [
       "{(5+4j), 1, 2, 3, 8.2, 'pwskills'}"
      ]
     },
     "execution_count": 181,
     "metadata": {},
     "output_type": "execute_result"
    }
   ],
   "source": [
    "s3"
   ]
  },
  {
   "cell_type": "code",
   "execution_count": 186,
   "id": "94e2860e-e9f1-4edf-b9dc-a9e68c7e8ed3",
   "metadata": {},
   "outputs": [],
   "source": [
    "s4={2,3,4,3,'Sudh',3,4,4,3,4,5,'sudh','sudh',6,7,7,6,5}"
   ]
  },
  {
   "cell_type": "code",
   "execution_count": 187,
   "id": "5863657c-7e02-4101-b416-255d6a1693ee",
   "metadata": {},
   "outputs": [
    {
     "data": {
      "text/plain": [
       "{2, 3, 4, 5, 6, 7, 'Sudh', 'sudh'}"
      ]
     },
     "execution_count": 187,
     "metadata": {},
     "output_type": "execute_result"
    }
   ],
   "source": [
    "s4"
   ]
  },
  {
   "cell_type": "code",
   "execution_count": 188,
   "id": "bbabc485-6672-4e81-9a35-4e694584a223",
   "metadata": {},
   "outputs": [],
   "source": [
    "s4.add(8)"
   ]
  },
  {
   "cell_type": "code",
   "execution_count": 189,
   "id": "442d20a6-efca-43a5-9b83-1cf168074ec9",
   "metadata": {},
   "outputs": [
    {
     "data": {
      "text/plain": [
       "{2, 3, 4, 5, 6, 7, 8, 'Sudh', 'sudh'}"
      ]
     },
     "execution_count": 189,
     "metadata": {},
     "output_type": "execute_result"
    }
   ],
   "source": [
    "s4"
   ]
  },
  {
   "cell_type": "code",
   "execution_count": 190,
   "id": "5019b6ef-c3ea-47cc-8d46-dd2b56ffc67b",
   "metadata": {},
   "outputs": [],
   "source": [
    "s4.add(2)"
   ]
  },
  {
   "cell_type": "code",
   "execution_count": 191,
   "id": "23264747-8f4b-458a-ba1d-48b9de32d44a",
   "metadata": {},
   "outputs": [
    {
     "data": {
      "text/plain": [
       "{2, 3, 4, 5, 6, 7, 8, 'Sudh', 'sudh'}"
      ]
     },
     "execution_count": 191,
     "metadata": {},
     "output_type": "execute_result"
    }
   ],
   "source": [
    "s4"
   ]
  },
  {
   "cell_type": "code",
   "execution_count": 192,
   "id": "f208cb9d-a2ec-4df4-938a-3a5df0aac638",
   "metadata": {},
   "outputs": [],
   "source": [
    "s4.remove(2)"
   ]
  },
  {
   "cell_type": "code",
   "execution_count": 193,
   "id": "c878f57b-02da-424d-b867-8650c23267a7",
   "metadata": {},
   "outputs": [
    {
     "data": {
      "text/plain": [
       "{3, 4, 5, 6, 7, 8, 'Sudh', 'sudh'}"
      ]
     },
     "execution_count": 193,
     "metadata": {},
     "output_type": "execute_result"
    }
   ],
   "source": [
    "s4"
   ]
  },
  {
   "cell_type": "code",
   "execution_count": null,
   "id": "26d5f004-e515-4c7a-8fda-7620e8736427",
   "metadata": {},
   "outputs": [],
   "source": []
  },
  {
   "cell_type": "code",
   "execution_count": null,
   "id": "77cd547f-d959-42a6-a575-6968971c51c6",
   "metadata": {},
   "outputs": [],
   "source": []
  },
  {
   "cell_type": "code",
   "execution_count": null,
   "id": "4ead6d27-d90b-4f91-b593-6f6209952a0e",
   "metadata": {},
   "outputs": [],
   "source": []
  },
  {
   "cell_type": "code",
   "execution_count": null,
   "id": "4aae58d5-ef16-42d4-8e4a-194d66357d6d",
   "metadata": {},
   "outputs": [],
   "source": []
  },
  {
   "cell_type": "code",
   "execution_count": null,
   "id": "712d6aaf-428d-4272-b465-92751b4dabdf",
   "metadata": {},
   "outputs": [],
   "source": []
  },
  {
   "cell_type": "code",
   "execution_count": null,
   "id": "15b18b3b-1542-4280-ba8e-64e16c4d2f3c",
   "metadata": {},
   "outputs": [],
   "source": []
  },
  {
   "cell_type": "code",
   "execution_count": null,
   "id": "3f395b50-25ec-4166-a9fd-ce5af1a582e8",
   "metadata": {},
   "outputs": [],
   "source": []
  },
  {
   "cell_type": "code",
   "execution_count": null,
   "id": "3bccd91c-dedf-406f-9e22-1ebcddc585a6",
   "metadata": {},
   "outputs": [],
   "source": []
  },
  {
   "cell_type": "code",
   "execution_count": null,
   "id": "a58bf0e0-73a0-4220-999b-7915b7835523",
   "metadata": {},
   "outputs": [],
   "source": []
  },
  {
   "cell_type": "code",
   "execution_count": null,
   "id": "927472b4-62ee-46fa-9975-610008d4cc3f",
   "metadata": {},
   "outputs": [],
   "source": []
  },
  {
   "cell_type": "code",
   "execution_count": null,
   "id": "5df409df-549f-4c3b-bcac-884c44a9adfa",
   "metadata": {},
   "outputs": [],
   "source": []
  },
  {
   "cell_type": "code",
   "execution_count": null,
   "id": "e9438e7d-87c0-40ba-97d2-9aa1fcfa5b2b",
   "metadata": {},
   "outputs": [],
   "source": []
  }
 ],
 "metadata": {
  "kernelspec": {
   "display_name": "Python 3 (ipykernel)",
   "language": "python",
   "name": "python3"
  },
  "language_info": {
   "codemirror_mode": {
    "name": "ipython",
    "version": 3
   },
   "file_extension": ".py",
   "mimetype": "text/x-python",
   "name": "python",
   "nbconvert_exporter": "python",
   "pygments_lexer": "ipython3",
   "version": "3.10.8"
  }
 },
 "nbformat": 4,
 "nbformat_minor": 5
}
